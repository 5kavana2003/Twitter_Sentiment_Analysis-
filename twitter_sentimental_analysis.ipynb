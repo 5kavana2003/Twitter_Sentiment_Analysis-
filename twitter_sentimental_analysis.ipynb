{
 "cells": [
  {
   "cell_type": "code",
   "execution_count": 1,
   "id": "c701880d",
   "metadata": {},
   "outputs": [
    {
     "name": "stdout",
     "output_type": "stream",
     "text": [
      "Requirement already satisfied: selenium in c:\\anaconda\\lib\\site-packages (3.141.0)\n",
      "Requirement already satisfied: urllib3 in c:\\anaconda\\lib\\site-packages (from selenium) (1.26.9)\n",
      "Note: you may need to restart the kernel to use updated packages.\n"
     ]
    }
   ],
   "source": [
    "pip install selenium"
   ]
  },
  {
   "cell_type": "code",
   "execution_count": 2,
   "id": "adccce7a",
   "metadata": {},
   "outputs": [
    {
     "name": "stdout",
     "output_type": "stream",
     "text": [
      "Requirement already satisfied: textblob in c:\\anaconda\\lib\\site-packages (0.18.0.post0)\n",
      "Requirement already satisfied: nltk>=3.8 in c:\\anaconda\\lib\\site-packages (from textblob) (3.8.1)\n",
      "Requirement already satisfied: click in c:\\anaconda\\lib\\site-packages (from nltk>=3.8->textblob) (8.0.4)\n",
      "Requirement already satisfied: joblib in c:\\anaconda\\lib\\site-packages (from nltk>=3.8->textblob) (1.1.0)\n",
      "Requirement already satisfied: regex>=2021.8.3 in c:\\anaconda\\lib\\site-packages (from nltk>=3.8->textblob) (2022.3.15)\n",
      "Requirement already satisfied: tqdm in c:\\anaconda\\lib\\site-packages (from nltk>=3.8->textblob) (4.64.0)\n",
      "Requirement already satisfied: colorama in c:\\anaconda\\lib\\site-packages (from click->nltk>=3.8->textblob) (0.4.4)\n",
      "Note: you may need to restart the kernel to use updated packages.\n"
     ]
    }
   ],
   "source": [
    "pip install textblob"
   ]
  },
  {
   "cell_type": "code",
   "execution_count": 3,
   "id": "772d325d",
   "metadata": {},
   "outputs": [
    {
     "name": "stdout",
     "output_type": "stream",
     "text": [
      "Requirement already satisfied: wordcloud in c:\\anaconda\\lib\\site-packages (1.9.3)\n",
      "Requirement already satisfied: matplotlib in c:\\anaconda\\lib\\site-packages (from wordcloud) (3.5.1)\n",
      "Requirement already satisfied: numpy>=1.6.1 in c:\\anaconda\\lib\\site-packages (from wordcloud) (1.21.5)\n",
      "Requirement already satisfied: pillow in c:\\anaconda\\lib\\site-packages (from wordcloud) (9.0.1)\n",
      "Requirement already satisfied: packaging>=20.0 in c:\\anaconda\\lib\\site-packages (from matplotlib->wordcloud) (21.3)\n",
      "Requirement already satisfied: python-dateutil>=2.7 in c:\\anaconda\\lib\\site-packages (from matplotlib->wordcloud) (2.8.2)\n",
      "Requirement already satisfied: fonttools>=4.22.0 in c:\\anaconda\\lib\\site-packages (from matplotlib->wordcloud) (4.25.0)\n",
      "Requirement already satisfied: pyparsing>=2.2.1 in c:\\anaconda\\lib\\site-packages (from matplotlib->wordcloud) (3.0.4)\n",
      "Requirement already satisfied: cycler>=0.10 in c:\\anaconda\\lib\\site-packages (from matplotlib->wordcloud) (0.11.0)\n",
      "Requirement already satisfied: kiwisolver>=1.0.1 in c:\\anaconda\\lib\\site-packages (from matplotlib->wordcloud) (1.3.2)\n",
      "Requirement already satisfied: six>=1.5 in c:\\anaconda\\lib\\site-packages (from python-dateutil>=2.7->matplotlib->wordcloud) (1.16.0)\n",
      "Note: you may need to restart the kernel to use updated packages.\n"
     ]
    }
   ],
   "source": [
    "pip install wordcloud"
   ]
  },
  {
   "cell_type": "code",
   "execution_count": 4,
   "id": "c28e91a9",
   "metadata": {},
   "outputs": [],
   "source": [
    "import selenium\n",
    "from selenium import webdriver\n",
    "from selenium.webdriver.common.by import By\n",
    "from selenium.webdriver.common.keys import Keys\n",
    "from time import sleep\n",
    "import getpass"
   ]
  },
  {
   "cell_type": "code",
   "execution_count": 5,
   "id": "2b90f1b7",
   "metadata": {},
   "outputs": [
    {
     "name": "stdout",
     "output_type": "stream",
     "text": [
      "········\n"
     ]
    }
   ],
   "source": [
    "my_user = \"xyzzz\" #change user_name\n",
    "my_pass=getpass.getpass() #password of the user"
   ]
  },
  {
   "cell_type": "code",
   "execution_count": 6,
   "id": "617680eb",
   "metadata": {},
   "outputs": [],
   "source": [
    "search_item=\"Virat kohli\""
   ]
  },
  {
   "cell_type": "code",
   "execution_count": 7,
   "id": "21310ab3",
   "metadata": {},
   "outputs": [],
   "source": [
    "from selenium import webdriver\n",
    "from selenium.webdriver.common.by import By"
   ]
  },
  {
   "cell_type": "code",
   "execution_count": 8,
   "id": "4f864f67",
   "metadata": {},
   "outputs": [],
   "source": [
    "driver = webdriver.Chrome()\n",
    "driver.get(\"https://twitter.com/i/flow/login\")"
   ]
  },
  {
   "cell_type": "code",
   "execution_count": 13,
   "id": "c342a138",
   "metadata": {},
   "outputs": [],
   "source": [
    "#driver.quit()"
   ]
  },
  {
   "cell_type": "code",
   "execution_count": 9,
   "id": "6757fe77",
   "metadata": {},
   "outputs": [],
   "source": [
    "user_id = driver.find_element(By.XPATH,\"//input[@type='text']\")\n",
    "user_id.send_keys(my_user)\n",
    "user_id.send_keys(Keys.ENTER)\n"
   ]
  },
  {
   "cell_type": "code",
   "execution_count": 11,
   "id": "3e056f66",
   "metadata": {},
   "outputs": [],
   "source": [
    "password = driver.find_element(By.XPATH,\"//input[@type='password']\")\n",
    "password.send_keys(my_pass)\n",
    "password.send_keys(Keys.ENTER)"
   ]
  },
  {
   "cell_type": "code",
   "execution_count": 12,
   "id": "5b271ae0",
   "metadata": {},
   "outputs": [],
   "source": [
    "search_box = driver.find_element(By.XPATH,\"//input[@data-testid='SearchBox_Search_Input']\")\n",
    "search_box.send_keys(search_item)\n",
    "search_box.send_keys(Keys.ENTER)"
   ]
  },
  {
   "cell_type": "code",
   "execution_count": 14,
   "id": "523fbfff",
   "metadata": {},
   "outputs": [],
   "source": [
    "#Scraping tweets\n",
    "all_tweets=set()\n",
    "\n",
    "tweets = driver.find_elements(By.XPATH,\"//div[@data-testid='tweetText']\")\n",
    "while True:\n",
    "    for tweet in tweets:\n",
    "        all_tweets.add(tweet.text)\n",
    "    driver.execute_script('window.scrollTo(0, document.body.scrollHeight);')\n",
    "    sleep(3)\n",
    "    tweets = driver.find_elements(By.XPATH,\"//div[@data-testid='tweetText']\")\n",
    "    if len(all_tweets)>50:\n",
    "        break"
   ]
  },
  {
   "cell_type": "code",
   "execution_count": 15,
   "id": "ce0f45ba",
   "metadata": {},
   "outputs": [
    {
     "data": {
      "text/plain": [
       "'Tears of joy!! What a team, what a final!! Congratulations & tku #TeamIndia  \\n@ImRo45\\n legend!! Bumrah, Arshdeep, Hardik on fire! And tku #KingKohli for all you have done for t20 cricket. You deserve this more than anyone! #RohitSharma𓃵 #ViratKohli𓃵 #bumrah #T20IWorldCup'"
      ]
     },
     "execution_count": 15,
     "metadata": {},
     "output_type": "execute_result"
    }
   ],
   "source": [
    "all_tweets = list(all_tweets)\n",
    "all_tweets[0]"
   ]
  },
  {
   "cell_type": "code",
   "execution_count": 16,
   "id": "674f7eb2",
   "metadata": {},
   "outputs": [
    {
     "name": "stderr",
     "output_type": "stream",
     "text": [
      "[nltk_data] Downloading package punkt to C:\\Users\\Kavana N\n",
      "[nltk_data]     S\\AppData\\Roaming\\nltk_data...\n",
      "[nltk_data]   Package punkt is already up-to-date!\n",
      "[nltk_data] Downloading package stopwords to C:\\Users\\Kavana N\n",
      "[nltk_data]     S\\AppData\\Roaming\\nltk_data...\n",
      "[nltk_data]   Package stopwords is already up-to-date!\n"
     ]
    }
   ],
   "source": [
    "#cleaning tweets\n",
    "import pandas as pd\n",
    "pd.options.display.max_colwidth = 1000\n",
    "import re\n",
    "import nltk\n",
    "nltk.download('punkt')\n",
    "nltk.download('stopwords')\n",
    "\n",
    "from nltk.corpus import stopwords\n",
    "from nltk.tokenize import word_tokenize"
   ]
  },
  {
   "cell_type": "code",
   "execution_count": 17,
   "id": "5adb101c",
   "metadata": {},
   "outputs": [
    {
     "name": "stdout",
     "output_type": "stream",
     "text": [
      "['i', 'me', 'my', 'myself', 'we', 'our', 'ours', 'ourselves', 'you', \"you're\", \"you've\", \"you'll\", \"you'd\", 'your', 'yours', 'yourself', 'yourselves', 'he', 'him', 'his', 'himself', 'she', \"she's\", 'her', 'hers', 'herself', 'it', \"it's\", 'its', 'itself', 'they', 'them', 'their', 'theirs', 'themselves', 'what', 'which', 'who', 'whom', 'this', 'that', \"that'll\", 'these', 'those', 'am', 'is', 'are', 'was', 'were', 'be', 'been', 'being', 'have', 'has', 'had', 'having', 'do', 'does', 'did', 'doing', 'a', 'an', 'the', 'and', 'but', 'if', 'or', 'because', 'as', 'until', 'while', 'of', 'at', 'by', 'for', 'with', 'about', 'against', 'between', 'into', 'through', 'during', 'before', 'after', 'above', 'below', 'to', 'from', 'up', 'down', 'in', 'out', 'on', 'off', 'over', 'under', 'again', 'further', 'then', 'once', 'here', 'there', 'when', 'where', 'why', 'how', 'all', 'any', 'both', 'each', 'few', 'more', 'most', 'other', 'some', 'such', 'no', 'nor', 'not', 'only', 'own', 'same', 'so', 'than', 'too', 'very', 's', 't', 'can', 'will', 'just', 'don', \"don't\", 'should', \"should've\", 'now', 'd', 'll', 'm', 'o', 're', 've', 'y', 'ain', 'aren', \"aren't\", 'couldn', \"couldn't\", 'didn', \"didn't\", 'doesn', \"doesn't\", 'hadn', \"hadn't\", 'hasn', \"hasn't\", 'haven', \"haven't\", 'isn', \"isn't\", 'ma', 'mightn', \"mightn't\", 'mustn', \"mustn't\", 'needn', \"needn't\", 'shan', \"shan't\", 'shouldn', \"shouldn't\", 'wasn', \"wasn't\", 'weren', \"weren't\", 'won', \"won't\", 'wouldn', \"wouldn't\"]\n"
     ]
    }
   ],
   "source": [
    "stp_words = stopwords.words('english')\n",
    "print(stp_words)"
   ]
  },
  {
   "cell_type": "code",
   "execution_count": 18,
   "id": "cc9e6608",
   "metadata": {},
   "outputs": [
    {
     "data": {
      "text/html": [
       "<div>\n",
       "<style scoped>\n",
       "    .dataframe tbody tr th:only-of-type {\n",
       "        vertical-align: middle;\n",
       "    }\n",
       "\n",
       "    .dataframe tbody tr th {\n",
       "        vertical-align: top;\n",
       "    }\n",
       "\n",
       "    .dataframe thead th {\n",
       "        text-align: right;\n",
       "    }\n",
       "</style>\n",
       "<table border=\"1\" class=\"dataframe\">\n",
       "  <thead>\n",
       "    <tr style=\"text-align: right;\">\n",
       "      <th></th>\n",
       "      <th>tweets</th>\n",
       "    </tr>\n",
       "  </thead>\n",
       "  <tbody>\n",
       "    <tr>\n",
       "      <th>0</th>\n",
       "      <td>Tears of joy!! What a team, what a final!! Congratulations &amp; tku #TeamIndia  \\n@ImRo45\\n legend!! Bumrah, Arshdeep, Hardik on fire! And tku #KingKohli for all you have done for t20 cricket. You deserve this more than anyone! #RohitSharma𓃵 #ViratKohli𓃵 #bumrah #T20IWorldCup</td>\n",
       "    </tr>\n",
       "    <tr>\n",
       "      <th>1</th>\n",
       "      <td>These Twitter trolls for few failures shouldn't distract you from the fact that Virat Kohli pulled off the greatest comeback after his lean phase.</td>\n",
       "    </tr>\n",
       "    <tr>\n",
       "      <th>2</th>\n",
       "      <td>जबतक अपुन है... टेंशन नई लेने का भाईलोग\\n\\n#T20WorldCup #ViratKohli\\n#RohitSharma𓃵 #HardikPandya\\n#TeamIndia #Bumrah #ViratKohli𓃵</td>\n",
       "    </tr>\n",
       "    <tr>\n",
       "      <th>3</th>\n",
       "      <td>Virat Kohli In T20I WCs over the years..</td>\n",
       "    </tr>\n",
       "    <tr>\n",
       "      <th>4</th>\n",
       "      <td>Somebody have edited for #RohiRat #RoKo #T20WorldCup #RohitSharma #ViratKohli\\n#Retirement</td>\n",
       "    </tr>\n",
       "  </tbody>\n",
       "</table>\n",
       "</div>"
      ],
      "text/plain": [
       "                                                                                                                                                                                                                                                                              tweets\n",
       "0  Tears of joy!! What a team, what a final!! Congratulations & tku #TeamIndia  \\n@ImRo45\\n legend!! Bumrah, Arshdeep, Hardik on fire! And tku #KingKohli for all you have done for t20 cricket. You deserve this more than anyone! #RohitSharma𓃵 #ViratKohli𓃵 #bumrah #T20IWorldCup\n",
       "1                                                                                                                                 These Twitter trolls for few failures shouldn't distract you from the fact that Virat Kohli pulled off the greatest comeback after his lean phase.\n",
       "2                                                                                                                                                  जबतक अपुन है... टेंशन नई लेने का भाईलोग\\n\\n#T20WorldCup #ViratKohli\\n#RohitSharma𓃵 #HardikPandya\\n#TeamIndia #Bumrah #ViratKohli𓃵\n",
       "3                                                                                                                                                                                                                                           Virat Kohli In T20I WCs over the years..\n",
       "4                                                                                                                                                                                         Somebody have edited for #RohiRat #RoKo #T20WorldCup #RohitSharma #ViratKohli\\n#Retirement"
      ]
     },
     "execution_count": 18,
     "metadata": {},
     "output_type": "execute_result"
    }
   ],
   "source": [
    "df = pd.DataFrame(all_tweets,columns=['tweets'])\n",
    "df.head()"
   ]
  },
  {
   "cell_type": "code",
   "execution_count": 19,
   "id": "32d08be8",
   "metadata": {},
   "outputs": [
    {
     "data": {
      "text/plain": [
       "'Somebody have edited for #RohiRat #RoKo #T20WorldCup #RohitSharma #ViratKohli\\n#Retirement'"
      ]
     },
     "execution_count": 19,
     "metadata": {},
     "output_type": "execute_result"
    }
   ],
   "source": [
    "one_tweet=df.iloc[4]['tweets']\n",
    "one_tweet"
   ]
  },
  {
   "cell_type": "code",
   "execution_count": 20,
   "id": "e3ec2c79",
   "metadata": {},
   "outputs": [],
   "source": [
    "\n",
    "from textblob import TextBlob\n",
    "from wordcloud import WordCloud\n",
    "\n",
    "def TweetCleaning(tweet):\n",
    "    cleanTweet = re.sub(r\"@[a-zA-Z0-9]+\",\"\",tweet)\n",
    "    cleanTweet = re.sub(r\"#[a-zA-Z0-9\\s]+\",\"\",cleanTweet)\n",
    "    cleanTweet = ' '.join(word for word in cleanTweet.split() if word not in stp_words)\n",
    "    return cleanTweet\n",
    "\n",
    "def calPolarity(tweet):\n",
    "    return TextBlob(tweet).sentiment.polarity\n",
    "\n",
    "def calSubjectivity(tweet):\n",
    "    return TextBlob(tweet).sentiment.subjectivity\n",
    "\n",
    "def segmentation(tweet):\n",
    "    if tweet > 0:\n",
    "        return \"positive\"\n",
    "    if tweet == 0:\n",
    "        return \"neutral\"\n",
    "    else:\n",
    "        return \"negative\"\n"
   ]
  },
  {
   "cell_type": "code",
   "execution_count": 21,
   "id": "585b9bb3",
   "metadata": {},
   "outputs": [
    {
     "data": {
      "text/plain": [
       "(53, 1)"
      ]
     },
     "execution_count": 21,
     "metadata": {},
     "output_type": "execute_result"
    }
   ],
   "source": [
    "df.shape"
   ]
  },
  {
   "cell_type": "code",
   "execution_count": 22,
   "id": "5c14878e",
   "metadata": {},
   "outputs": [
    {
     "data": {
      "text/html": [
       "<div>\n",
       "<style scoped>\n",
       "    .dataframe tbody tr th:only-of-type {\n",
       "        vertical-align: middle;\n",
       "    }\n",
       "\n",
       "    .dataframe tbody tr th {\n",
       "        vertical-align: top;\n",
       "    }\n",
       "\n",
       "    .dataframe thead th {\n",
       "        text-align: right;\n",
       "    }\n",
       "</style>\n",
       "<table border=\"1\" class=\"dataframe\">\n",
       "  <thead>\n",
       "    <tr style=\"text-align: right;\">\n",
       "      <th></th>\n",
       "      <th>tweets</th>\n",
       "      <th>cleanedTweets</th>\n",
       "      <th>tPolarity</th>\n",
       "      <th>tSubjectivity</th>\n",
       "      <th>segmentation</th>\n",
       "    </tr>\n",
       "  </thead>\n",
       "  <tbody>\n",
       "    <tr>\n",
       "      <th>0</th>\n",
       "      <td>Tears of joy!! What a team, what a final!! Congratulations &amp; tku #TeamIndia  \\n@ImRo45\\n legend!! Bumrah, Arshdeep, Hardik on fire! And tku #KingKohli for all you have done for t20 cricket. You deserve this more than anyone! #RohitSharma𓃵 #ViratKohli𓃵 #bumrah #T20IWorldCup</td>\n",
       "      <td>Tears joy!! What team, final!! Congratulations &amp; tku !! Bumrah, Arshdeep, Hardik fire! And tku . You deserve anyone! 𓃵 𓃵</td>\n",
       "      <td>0.5</td>\n",
       "      <td>0.6</td>\n",
       "      <td>positive</td>\n",
       "    </tr>\n",
       "    <tr>\n",
       "      <th>1</th>\n",
       "      <td>These Twitter trolls for few failures shouldn't distract you from the fact that Virat Kohli pulled off the greatest comeback after his lean phase.</td>\n",
       "      <td>These Twitter trolls failures distract fact Virat Kohli pulled greatest comeback lean phase.</td>\n",
       "      <td>1.0</td>\n",
       "      <td>1.0</td>\n",
       "      <td>positive</td>\n",
       "    </tr>\n",
       "    <tr>\n",
       "      <th>2</th>\n",
       "      <td>जबतक अपुन है... टेंशन नई लेने का भाईलोग\\n\\n#T20WorldCup #ViratKohli\\n#RohitSharma𓃵 #HardikPandya\\n#TeamIndia #Bumrah #ViratKohli𓃵</td>\n",
       "      <td>जबतक अपुन है... टेंशन नई लेने का भाईलोग 𓃵 𓃵</td>\n",
       "      <td>0.0</td>\n",
       "      <td>0.0</td>\n",
       "      <td>neutral</td>\n",
       "    </tr>\n",
       "    <tr>\n",
       "      <th>3</th>\n",
       "      <td>Virat Kohli In T20I WCs over the years..</td>\n",
       "      <td>Virat Kohli In T20I WCs years..</td>\n",
       "      <td>0.0</td>\n",
       "      <td>0.0</td>\n",
       "      <td>neutral</td>\n",
       "    </tr>\n",
       "    <tr>\n",
       "      <th>4</th>\n",
       "      <td>Somebody have edited for #RohiRat #RoKo #T20WorldCup #RohitSharma #ViratKohli\\n#Retirement</td>\n",
       "      <td>Somebody edited</td>\n",
       "      <td>0.0</td>\n",
       "      <td>0.0</td>\n",
       "      <td>neutral</td>\n",
       "    </tr>\n",
       "  </tbody>\n",
       "</table>\n",
       "</div>"
      ],
      "text/plain": [
       "                                                                                                                                                                                                                                                                              tweets  \\\n",
       "0  Tears of joy!! What a team, what a final!! Congratulations & tku #TeamIndia  \\n@ImRo45\\n legend!! Bumrah, Arshdeep, Hardik on fire! And tku #KingKohli for all you have done for t20 cricket. You deserve this more than anyone! #RohitSharma𓃵 #ViratKohli𓃵 #bumrah #T20IWorldCup   \n",
       "1                                                                                                                                 These Twitter trolls for few failures shouldn't distract you from the fact that Virat Kohli pulled off the greatest comeback after his lean phase.   \n",
       "2                                                                                                                                                  जबतक अपुन है... टेंशन नई लेने का भाईलोग\\n\\n#T20WorldCup #ViratKohli\\n#RohitSharma𓃵 #HardikPandya\\n#TeamIndia #Bumrah #ViratKohli𓃵   \n",
       "3                                                                                                                                                                                                                                           Virat Kohli In T20I WCs over the years..   \n",
       "4                                                                                                                                                                                         Somebody have edited for #RohiRat #RoKo #T20WorldCup #RohitSharma #ViratKohli\\n#Retirement   \n",
       "\n",
       "                                                                                                              cleanedTweets  \\\n",
       "0  Tears joy!! What team, final!! Congratulations & tku !! Bumrah, Arshdeep, Hardik fire! And tku . You deserve anyone! 𓃵 𓃵   \n",
       "1                              These Twitter trolls failures distract fact Virat Kohli pulled greatest comeback lean phase.   \n",
       "2                                                                               जबतक अपुन है... टेंशन नई लेने का भाईलोग 𓃵 𓃵   \n",
       "3                                                                                           Virat Kohli In T20I WCs years..   \n",
       "4                                                                                                           Somebody edited   \n",
       "\n",
       "   tPolarity  tSubjectivity segmentation  \n",
       "0        0.5            0.6     positive  \n",
       "1        1.0            1.0     positive  \n",
       "2        0.0            0.0      neutral  \n",
       "3        0.0            0.0      neutral  \n",
       "4        0.0            0.0      neutral  "
      ]
     },
     "execution_count": 22,
     "metadata": {},
     "output_type": "execute_result"
    }
   ],
   "source": [
    "df['cleanedTweets'] = df['tweets'].apply(TweetCleaning)\n",
    "df['tPolarity'] = df['cleanedTweets'].apply(calPolarity)\n",
    "df['tSubjectivity'] = df['cleanedTweets'].apply(calSubjectivity)\n",
    "df['segmentation'] = df['tPolarity'].apply(segmentation)\n",
    "df.head()"
   ]
  },
  {
   "cell_type": "code",
   "execution_count": 23,
   "id": "38cb336d",
   "metadata": {},
   "outputs": [
    {
     "data": {
      "text/html": [
       "<div>\n",
       "<style scoped>\n",
       "    .dataframe tbody tr th:only-of-type {\n",
       "        vertical-align: middle;\n",
       "    }\n",
       "\n",
       "    .dataframe tbody tr th {\n",
       "        vertical-align: top;\n",
       "    }\n",
       "\n",
       "    .dataframe thead th {\n",
       "        text-align: right;\n",
       "    }\n",
       "</style>\n",
       "<table border=\"1\" class=\"dataframe\">\n",
       "  <thead>\n",
       "    <tr style=\"text-align: right;\">\n",
       "      <th></th>\n",
       "      <th>segmentation</th>\n",
       "    </tr>\n",
       "    <tr>\n",
       "      <th>segmentation</th>\n",
       "      <th></th>\n",
       "    </tr>\n",
       "  </thead>\n",
       "  <tbody>\n",
       "    <tr>\n",
       "      <th>negative</th>\n",
       "      <td>5</td>\n",
       "    </tr>\n",
       "    <tr>\n",
       "      <th>neutral</th>\n",
       "      <td>35</td>\n",
       "    </tr>\n",
       "    <tr>\n",
       "      <th>positive</th>\n",
       "      <td>13</td>\n",
       "    </tr>\n",
       "  </tbody>\n",
       "</table>\n",
       "</div>"
      ],
      "text/plain": [
       "              segmentation\n",
       "segmentation              \n",
       "negative                 5\n",
       "neutral                 35\n",
       "positive                13"
      ]
     },
     "execution_count": 23,
     "metadata": {},
     "output_type": "execute_result"
    }
   ],
   "source": [
    "#Analysing  and visualisation\n",
    "df.pivot_table(index=['segmentation'],aggfunc={'segmentation':'count'})"
   ]
  },
  {
   "cell_type": "code",
   "execution_count": 24,
   "id": "87ba0f74",
   "metadata": {},
   "outputs": [
    {
     "data": {
      "text/html": [
       "<div>\n",
       "<style scoped>\n",
       "    .dataframe tbody tr th:only-of-type {\n",
       "        vertical-align: middle;\n",
       "    }\n",
       "\n",
       "    .dataframe tbody tr th {\n",
       "        vertical-align: top;\n",
       "    }\n",
       "\n",
       "    .dataframe thead th {\n",
       "        text-align: right;\n",
       "    }\n",
       "</style>\n",
       "<table border=\"1\" class=\"dataframe\">\n",
       "  <thead>\n",
       "    <tr style=\"text-align: right;\">\n",
       "      <th></th>\n",
       "      <th>tweets</th>\n",
       "      <th>cleanedTweets</th>\n",
       "      <th>tPolarity</th>\n",
       "      <th>tSubjectivity</th>\n",
       "      <th>segmentation</th>\n",
       "    </tr>\n",
       "  </thead>\n",
       "  <tbody>\n",
       "    <tr>\n",
       "      <th>1</th>\n",
       "      <td>These Twitter trolls for few failures shouldn't distract you from the fact that Virat Kohli pulled off the greatest comeback after his lean phase.</td>\n",
       "      <td>These Twitter trolls failures distract fact Virat Kohli pulled greatest comeback lean phase.</td>\n",
       "      <td>1.0</td>\n",
       "      <td>1.00</td>\n",
       "      <td>positive</td>\n",
       "    </tr>\n",
       "    <tr>\n",
       "      <th>17</th>\n",
       "      <td>- Virat Kohli retired from T20Is.\\n- Rohit Sharma retired from T20Is.\\n\\nBoth have won T20 World Cup and both retired together - WHAT A GREAT FAREWELL OF THESE TWO GOATS.</td>\n",
       "      <td>- Virat Kohli retired T20Is. - Rohit Sharma retired T20Is. Both T20 World Cup retired together - WHAT A GREAT FAREWELL OF THESE TWO GOATS.</td>\n",
       "      <td>0.8</td>\n",
       "      <td>0.75</td>\n",
       "      <td>positive</td>\n",
       "    </tr>\n",
       "    <tr>\n",
       "      <th>7</th>\n",
       "      <td>Happy birthday brother \\n@imVkohli\\n  to king in India sir \\n@sachin_rt\\n  Virat kohli \\n@BCCI</td>\n",
       "      <td>Happy birthday brother king India sir _rt Virat kohli</td>\n",
       "      <td>0.8</td>\n",
       "      <td>1.00</td>\n",
       "      <td>positive</td>\n",
       "    </tr>\n",
       "  </tbody>\n",
       "</table>\n",
       "</div>"
      ],
      "text/plain": [
       "                                                                                                                                                                         tweets  \\\n",
       "1                            These Twitter trolls for few failures shouldn't distract you from the fact that Virat Kohli pulled off the greatest comeback after his lean phase.   \n",
       "17  - Virat Kohli retired from T20Is.\\n- Rohit Sharma retired from T20Is.\\n\\nBoth have won T20 World Cup and both retired together - WHAT A GREAT FAREWELL OF THESE TWO GOATS.    \n",
       "7                                                                                Happy birthday brother \\n@imVkohli\\n  to king in India sir \\n@sachin_rt\\n  Virat kohli \\n@BCCI   \n",
       "\n",
       "                                                                                                                                 cleanedTweets  \\\n",
       "1                                                 These Twitter trolls failures distract fact Virat Kohli pulled greatest comeback lean phase.   \n",
       "17  - Virat Kohli retired T20Is. - Rohit Sharma retired T20Is. Both T20 World Cup retired together - WHAT A GREAT FAREWELL OF THESE TWO GOATS.   \n",
       "7                                                                                        Happy birthday brother king India sir _rt Virat kohli   \n",
       "\n",
       "    tPolarity  tSubjectivity segmentation  \n",
       "1         1.0           1.00     positive  \n",
       "17        0.8           0.75     positive  \n",
       "7         0.8           1.00     positive  "
      ]
     },
     "execution_count": 24,
     "metadata": {},
     "output_type": "execute_result"
    }
   ],
   "source": [
    "#top 3 positive\n",
    "df.sort_values(by=['tPolarity'],ascending=False).head(3)"
   ]
  },
  {
   "cell_type": "code",
   "execution_count": 25,
   "id": "94e17b02",
   "metadata": {},
   "outputs": [
    {
     "data": {
      "text/html": [
       "<div>\n",
       "<style scoped>\n",
       "    .dataframe tbody tr th:only-of-type {\n",
       "        vertical-align: middle;\n",
       "    }\n",
       "\n",
       "    .dataframe tbody tr th {\n",
       "        vertical-align: top;\n",
       "    }\n",
       "\n",
       "    .dataframe thead th {\n",
       "        text-align: right;\n",
       "    }\n",
       "</style>\n",
       "<table border=\"1\" class=\"dataframe\">\n",
       "  <thead>\n",
       "    <tr style=\"text-align: right;\">\n",
       "      <th></th>\n",
       "      <th>tweets</th>\n",
       "      <th>cleanedTweets</th>\n",
       "      <th>tPolarity</th>\n",
       "      <th>tSubjectivity</th>\n",
       "      <th>segmentation</th>\n",
       "    </tr>\n",
       "  </thead>\n",
       "  <tbody>\n",
       "    <tr>\n",
       "      <th>32</th>\n",
       "      <td>Just one bad T20 World Cup for Virat Kohli and people forgot that Virat Kohli carried this team in every T20 WC being Highest Scorer in 3 Tournaments and 2 times ICC POTT!!!!.....</td>\n",
       "      <td>Just one bad T20 World Cup Virat Kohli people forgot Virat Kohli carried team every T20 WC Highest Scorer 3 Tournaments 2 times ICC POTT!!!!.....</td>\n",
       "      <td>-1.000000</td>\n",
       "      <td>0.666667</td>\n",
       "      <td>negative</td>\n",
       "    </tr>\n",
       "    <tr>\n",
       "      <th>35</th>\n",
       "      <td>I love Virat Kohli. I don’t mind seeing him scoring that hundred as we were badly losing anyway. \\n\\nBut Richard Kettleborough set an awful example here. It is nothing new that the bowlers try the ‘ugly’ way to restrict a batsman’s hundred. There is no rule that states that a</td>\n",
       "      <td>I love Virat Kohli. I don’t mind seeing scoring hundred badly losing anyway. But Richard Kettleborough set awful example here. It nothing new bowlers try ‘ugly’ way restrict batsman’s hundred. There rule states</td>\n",
       "      <td>-0.352727</td>\n",
       "      <td>0.744242</td>\n",
       "      <td>negative</td>\n",
       "    </tr>\n",
       "    <tr>\n",
       "      <th>15</th>\n",
       "      <td>Hearing funny arguments about Virat Kohli being Selfish and obsessed with personal milestone.\\nYes Kohli is selfish, selfish enough to follow the dream of a billion people, selfish enough to strive for excellence even after achieving so much, selfish enough to set new benchmarks,</td>\n",
       "      <td>Hearing funny arguments Virat Kohli Selfish obsessed personal milestone. Yes Kohli selfish, selfish enough follow dream billion people, selfish enough strive excellence even achieving much, selfish enough set new benchmarks,</td>\n",
       "      <td>-0.217803</td>\n",
       "      <td>0.771212</td>\n",
       "      <td>negative</td>\n",
       "    </tr>\n",
       "  </tbody>\n",
       "</table>\n",
       "</div>"
      ],
      "text/plain": [
       "                                                                                                                                                                                                                                                                                      tweets  \\\n",
       "32                                                                                                       Just one bad T20 World Cup for Virat Kohli and people forgot that Virat Kohli carried this team in every T20 WC being Highest Scorer in 3 Tournaments and 2 times ICC POTT!!!!.....   \n",
       "35      I love Virat Kohli. I don’t mind seeing him scoring that hundred as we were badly losing anyway. \\n\\nBut Richard Kettleborough set an awful example here. It is nothing new that the bowlers try the ‘ugly’ way to restrict a batsman’s hundred. There is no rule that states that a   \n",
       "15  Hearing funny arguments about Virat Kohli being Selfish and obsessed with personal milestone.\\nYes Kohli is selfish, selfish enough to follow the dream of a billion people, selfish enough to strive for excellence even after achieving so much, selfish enough to set new benchmarks,   \n",
       "\n",
       "                                                                                                                                                                                                                       cleanedTweets  \\\n",
       "32                                                                                 Just one bad T20 World Cup Virat Kohli people forgot Virat Kohli carried team every T20 WC Highest Scorer 3 Tournaments 2 times ICC POTT!!!!.....   \n",
       "35                I love Virat Kohli. I don’t mind seeing scoring hundred badly losing anyway. But Richard Kettleborough set awful example here. It nothing new bowlers try ‘ugly’ way restrict batsman’s hundred. There rule states   \n",
       "15  Hearing funny arguments Virat Kohli Selfish obsessed personal milestone. Yes Kohli selfish, selfish enough follow dream billion people, selfish enough strive excellence even achieving much, selfish enough set new benchmarks,   \n",
       "\n",
       "    tPolarity  tSubjectivity segmentation  \n",
       "32  -1.000000       0.666667     negative  \n",
       "35  -0.352727       0.744242     negative  \n",
       "15  -0.217803       0.771212     negative  "
      ]
     },
     "execution_count": 25,
     "metadata": {},
     "output_type": "execute_result"
    }
   ],
   "source": [
    "#top 3 negative\n",
    "df.sort_values(by=['tPolarity'],ascending=True).head(3)"
   ]
  },
  {
   "cell_type": "code",
   "execution_count": 26,
   "id": "dd410ec6",
   "metadata": {},
   "outputs": [
    {
     "data": {
      "text/html": [
       "<div>\n",
       "<style scoped>\n",
       "    .dataframe tbody tr th:only-of-type {\n",
       "        vertical-align: middle;\n",
       "    }\n",
       "\n",
       "    .dataframe tbody tr th {\n",
       "        vertical-align: top;\n",
       "    }\n",
       "\n",
       "    .dataframe thead th {\n",
       "        text-align: right;\n",
       "    }\n",
       "</style>\n",
       "<table border=\"1\" class=\"dataframe\">\n",
       "  <thead>\n",
       "    <tr style=\"text-align: right;\">\n",
       "      <th></th>\n",
       "      <th>tweets</th>\n",
       "      <th>cleanedTweets</th>\n",
       "      <th>tPolarity</th>\n",
       "      <th>tSubjectivity</th>\n",
       "      <th>segmentation</th>\n",
       "    </tr>\n",
       "  </thead>\n",
       "  <tbody>\n",
       "    <tr>\n",
       "      <th>2</th>\n",
       "      <td>जबतक अपुन है... टेंशन नई लेने का भाईलोग\\n\\n#T20WorldCup #ViratKohli\\n#RohitSharma𓃵 #HardikPandya\\n#TeamIndia #Bumrah #ViratKohli𓃵</td>\n",
       "      <td>जबतक अपुन है... टेंशन नई लेने का भाईलोग 𓃵 𓃵</td>\n",
       "      <td>0.0</td>\n",
       "      <td>0.00</td>\n",
       "      <td>neutral</td>\n",
       "    </tr>\n",
       "    <tr>\n",
       "      <th>3</th>\n",
       "      <td>Virat Kohli In T20I WCs over the years..</td>\n",
       "      <td>Virat Kohli In T20I WCs years..</td>\n",
       "      <td>0.0</td>\n",
       "      <td>0.00</td>\n",
       "      <td>neutral</td>\n",
       "    </tr>\n",
       "    <tr>\n",
       "      <th>4</th>\n",
       "      <td>Somebody have edited for #RohiRat #RoKo #T20WorldCup #RohitSharma #ViratKohli\\n#Retirement</td>\n",
       "      <td>Somebody edited</td>\n",
       "      <td>0.0</td>\n",
       "      <td>0.00</td>\n",
       "      <td>neutral</td>\n",
       "    </tr>\n",
       "    <tr>\n",
       "      <th>5</th>\n",
       "      <td>WHAT. A. KNOCK \\n\\nVirat Kohli departs after a marvellous 95(104) \\n\\n#TeamIndia | #CWC23 | #MenInBlue | #INDvNZ</td>\n",
       "      <td>WHAT. A. KNOCK Virat Kohli departs marvellous 95(104) | | |</td>\n",
       "      <td>0.0</td>\n",
       "      <td>0.00</td>\n",
       "      <td>neutral</td>\n",
       "    </tr>\n",
       "    <tr>\n",
       "      <th>8</th>\n",
       "      <td>T20 உலக கோப்பையை சனாதனம் வென்றது \\n\\n#IndiaWon #Bumra #Pandya #JaspritBumra #ViratKohli𓃵 #T20WorldCup #T20WorldCup2024 #T20WorldCupFinal #INDvSA #INDvsSA2024 #AxarPatel</td>\n",
       "      <td>T20 உலக கோப்பையை சனாதனம் வென்றது 𓃵</td>\n",
       "      <td>0.0</td>\n",
       "      <td>0.00</td>\n",
       "      <td>neutral</td>\n",
       "    </tr>\n",
       "    <tr>\n",
       "      <th>9</th>\n",
       "      <td>Rohit Sharma &amp; Virat Kohli</td>\n",
       "      <td>Rohit Sharma &amp; Virat Kohli</td>\n",
       "      <td>0.0</td>\n",
       "      <td>0.00</td>\n",
       "      <td>neutral</td>\n",
       "    </tr>\n",
       "    <tr>\n",
       "      <th>10</th>\n",
       "      <td>फिर से होगा वर्ल्डकप फाइनल, लीक हुआ था मैच\\n\\n#T20WorldCup | #RohitSharma | #ViratKohli</td>\n",
       "      <td>फिर से होगा वर्ल्डकप फाइनल, लीक हुआ था मैच | |</td>\n",
       "      <td>0.0</td>\n",
       "      <td>0.00</td>\n",
       "      <td>neutral</td>\n",
       "    </tr>\n",
       "    <tr>\n",
       "      <th>11</th>\n",
       "      <td>Virat Kohli has completed cricket</td>\n",
       "      <td>Virat Kohli completed cricket</td>\n",
       "      <td>0.0</td>\n",
       "      <td>0.00</td>\n",
       "      <td>neutral</td>\n",
       "    </tr>\n",
       "    <tr>\n",
       "      <th>13</th>\n",
       "      <td>Head Coach Rahul Dravid Backs Virat Kohli</td>\n",
       "      <td>Head Coach Rahul Dravid Backs Virat Kohli</td>\n",
       "      <td>0.0</td>\n",
       "      <td>0.00</td>\n",
       "      <td>neutral</td>\n",
       "    </tr>\n",
       "    <tr>\n",
       "      <th>14</th>\n",
       "      <td>The way Virat Kohli looked up to the sky and said, \"God's plan, baby\"</td>\n",
       "      <td>The way Virat Kohli looked sky said, \"God's plan, baby\"</td>\n",
       "      <td>0.0</td>\n",
       "      <td>0.00</td>\n",
       "      <td>neutral</td>\n",
       "    </tr>\n",
       "    <tr>\n",
       "      <th>18</th>\n",
       "      <td>Indian batting coach Vikram Rathour's Instagram post with Virat Kohli.</td>\n",
       "      <td>Indian batting coach Vikram Rathour's Instagram post Virat Kohli.</td>\n",
       "      <td>0.0</td>\n",
       "      <td>0.00</td>\n",
       "      <td>neutral</td>\n",
       "    </tr>\n",
       "    <tr>\n",
       "      <th>20</th>\n",
       "      <td>Wallpapers from T20 World Cup finals \\n\\n#ViratKohli #RohitSharma</td>\n",
       "      <td>Wallpapers T20 World Cup finals</td>\n",
       "      <td>0.0</td>\n",
       "      <td>0.00</td>\n",
       "      <td>neutral</td>\n",
       "    </tr>\n",
       "    <tr>\n",
       "      <th>21</th>\n",
       "      <td>#BREAKING | बारबाडोस में तूफान की वजह से लगा कर्फ्यू, कल दिल्ली पहुंचेगी टीम इंडिया            \\n@rajendradev6\\n | http://abplive.com/live-tv  \\n\\n#Barbados #TeamIndia #Cricket #T20Worldcup #RohitSharma #ViratKohli</td>\n",
       "      <td>| बारबाडोस में तूफान की वजह से लगा कर्फ्यू, कल दिल्ली पहुंचेगी टीम इंडिया | http://abplive.com/live-tv</td>\n",
       "      <td>0.0</td>\n",
       "      <td>0.00</td>\n",
       "      <td>neutral</td>\n",
       "    </tr>\n",
       "    <tr>\n",
       "      <th>22</th>\n",
       "      <td>Pick Retirement Moment For Virat Kohli &amp; Rohit Sharma</td>\n",
       "      <td>Pick Retirement Moment For Virat Kohli &amp; Rohit Sharma</td>\n",
       "      <td>0.0</td>\n",
       "      <td>0.00</td>\n",
       "      <td>neutral</td>\n",
       "    </tr>\n",
       "    <tr>\n",
       "      <th>24</th>\n",
       "      <td>Thank you, Virat Kohli!!!!</td>\n",
       "      <td>Thank you, Virat Kohli!!!!</td>\n",
       "      <td>0.0</td>\n",
       "      <td>0.00</td>\n",
       "      <td>neutral</td>\n",
       "    </tr>\n",
       "    <tr>\n",
       "      <th>25</th>\n",
       "      <td>With Virat Kohli, Rohit Sharma and Ravindra Jadeja all retiring from T20Is, here’s how India could line up at the T20 World Cup 2026 \\n\\nWill India defend their trophy?  \\n\\nLet us know what would be your XI? \\n\\n#CricketTwitter #TeamIndia</td>\n",
       "      <td>With Virat Kohli, Rohit Sharma Ravindra Jadeja retiring T20Is, here’s India could line T20 World Cup 2026 Will India defend trophy? Let us know would XI?</td>\n",
       "      <td>0.0</td>\n",
       "      <td>0.00</td>\n",
       "      <td>neutral</td>\n",
       "    </tr>\n",
       "    <tr>\n",
       "      <th>26</th>\n",
       "      <td>#RohitSharma #ViratKohli #SAvIND #SAvsIND #T20WorldCup #TeamIndia #BharatArmy #COTI</td>\n",
       "      <td></td>\n",
       "      <td>0.0</td>\n",
       "      <td>0.00</td>\n",
       "      <td>neutral</td>\n",
       "    </tr>\n",
       "    <tr>\n",
       "      <th>27</th>\n",
       "      <td>Indeed! \\n\\n#ViratKohli #T20WorldCup</td>\n",
       "      <td>Indeed!</td>\n",
       "      <td>0.0</td>\n",
       "      <td>0.00</td>\n",
       "      <td>neutral</td>\n",
       "    </tr>\n",
       "    <tr>\n",
       "      <th>28</th>\n",
       "      <td>ओ.. अनिलवा..\\nअब इस पोस्ट की बत्ती बना के पीछे घुसेड़ ले\\n    और तीस चालीस बार अंदर बाहर कर\\n\\n     आराम मिलेगा BSDK देशद्रोही कुत्ते \\n\\n#T20WorldCup  #INDvSA\\n#ViratKohli #RohitSharma𓃵</td>\n",
       "      <td>ओ.. अनिलवा.. अब इस पोस्ट की बत्ती बना के पीछे घुसेड़ ले और तीस चालीस बार अंदर बाहर कर आराम मिलेगा BSDK देशद्रोही कुत्ते 𓃵</td>\n",
       "      <td>0.0</td>\n",
       "      <td>0.00</td>\n",
       "      <td>neutral</td>\n",
       "    </tr>\n",
       "    <tr>\n",
       "      <th>29</th>\n",
       "      <td>Virat Kohli's Instagram post.</td>\n",
       "      <td>Virat Kohli's Instagram post.</td>\n",
       "      <td>0.0</td>\n",
       "      <td>0.00</td>\n",
       "      <td>neutral</td>\n",
       "    </tr>\n",
       "    <tr>\n",
       "      <th>30</th>\n",
       "      <td>Virat Kohli flexing his trophy has to be my favourite</td>\n",
       "      <td>Virat Kohli flexing trophy favourite</td>\n",
       "      <td>0.0</td>\n",
       "      <td>0.00</td>\n",
       "      <td>neutral</td>\n",
       "    </tr>\n",
       "    <tr>\n",
       "      <th>33</th>\n",
       "      <td>King Virat Kohli and Marnus Labuschagne not taking their eyes off each other\\n\\n#INDvsAUSfinal</td>\n",
       "      <td>King Virat Kohli Marnus Labuschagne taking eyes</td>\n",
       "      <td>0.0</td>\n",
       "      <td>0.00</td>\n",
       "      <td>neutral</td>\n",
       "    </tr>\n",
       "    <tr>\n",
       "      <th>34</th>\n",
       "      <td>Virat Kohli completed the cricket</td>\n",
       "      <td>Virat Kohli completed cricket</td>\n",
       "      <td>0.0</td>\n",
       "      <td>0.00</td>\n",
       "      <td>neutral</td>\n",
       "    </tr>\n",
       "    <tr>\n",
       "      <th>36</th>\n",
       "      <td>मोदी जी के तीसरे कार्यकाल की शानदार शुरुवात है । मोदी जी ने बधाई दी।\\nहिंदुस्तान वर्ल्ड कप जीत गया।\\nCongratulations India  \\nPlayer of the match.\\n#ThankYouVirat\\nWe love you Virat Kohli.\\n#Panauti चमचों का जननायक दिख नही रहा है।</td>\n",
       "      <td>मोदी जी के तीसरे कार्यकाल की शानदार शुरुवात है । मोदी जी ने बधाई दी। हिंदुस्तान वर्ल्ड कप जीत गया। Congratulations India Player match. . चमचों का जननायक दिख नही रहा है।</td>\n",
       "      <td>0.0</td>\n",
       "      <td>0.00</td>\n",
       "      <td>neutral</td>\n",
       "    </tr>\n",
       "    <tr>\n",
       "      <th>37</th>\n",
       "      <td>King conquers all in white ball cricket.\\n\\n#ViratKohli #T20WorldCup #TeamIndia #BharatArmy</td>\n",
       "      <td>King conquers white ball cricket.</td>\n",
       "      <td>0.0</td>\n",
       "      <td>0.00</td>\n",
       "      <td>neutral</td>\n",
       "    </tr>\n",
       "    <tr>\n",
       "      <th>39</th>\n",
       "      <td>Pakistani Fans on X supported SA, ENG, AUS, BAN, USA, IRE when India was playing against these Teams after Pakistan Elimination \\n\\nBut, every team lost &amp; India emerged as the Champions of T20 WC 2024\\n\\n#INDvSA #T20WorldCupFinal #ViratKohli #TeamIndia</td>\n",
       "      <td>Pakistani Fans X supported SA, ENG, AUS, BAN, USA, IRE India playing Teams Pakistan Elimination But, every team lost &amp; India emerged Champions T20 WC 2024</td>\n",
       "      <td>0.0</td>\n",
       "      <td>0.00</td>\n",
       "      <td>neutral</td>\n",
       "    </tr>\n",
       "    <tr>\n",
       "      <th>41</th>\n",
       "      <td>Virat Kohli  KL Rahul\\n\\nThe pair help India post a mammoth total against Pakistan in Colombo  \\n\\n#AsiaCup2023 | #PAKvIND |  https://bit.ly/3LhlXrQ</td>\n",
       "      <td>Virat Kohli KL Rahul The pair help India post mammoth total Pakistan Colombo | | https://bit.ly/3LhlXrQ</td>\n",
       "      <td>0.0</td>\n",
       "      <td>0.75</td>\n",
       "      <td>neutral</td>\n",
       "    </tr>\n",
       "    <tr>\n",
       "      <th>42</th>\n",
       "      <td>Caption is in the picture.\\n\\n#ViratKohli #T20WorldCup #INDvSA #SAvIND #BharatArmy</td>\n",
       "      <td>Caption picture.</td>\n",
       "      <td>0.0</td>\n",
       "      <td>0.00</td>\n",
       "      <td>neutral</td>\n",
       "    </tr>\n",
       "    <tr>\n",
       "      <th>43</th>\n",
       "      <td>The Farewell that Rahul Dravid will remember till ages \\n\\nDravid never won a World Cup as a player, but won the T20 World Cup as a Coach  \\n\\n#T20WorldCup #RahulDravid #RohitSharma #ViratKohli</td>\n",
       "      <td>The Farewell Rahul Dravid remember till ages Dravid never World Cup player, T20 World Cup Coach</td>\n",
       "      <td>0.0</td>\n",
       "      <td>0.00</td>\n",
       "      <td>neutral</td>\n",
       "    </tr>\n",
       "    <tr>\n",
       "      <th>44</th>\n",
       "      <td>Three Pillars of Team India with National Flag on their shoulder!</td>\n",
       "      <td>Three Pillars Team India National Flag shoulder!</td>\n",
       "      <td>0.0</td>\n",
       "      <td>0.00</td>\n",
       "      <td>neutral</td>\n",
       "    </tr>\n",
       "    <tr>\n",
       "      <th>45</th>\n",
       "      <td>You deserve it... \\n\\n#PlayBold #TeamIndia #T20WorldCup #ViratKohli</td>\n",
       "      <td>You deserve it...</td>\n",
       "      <td>0.0</td>\n",
       "      <td>0.00</td>\n",
       "      <td>neutral</td>\n",
       "    </tr>\n",
       "    <tr>\n",
       "      <th>46</th>\n",
       "      <td>Modi 3.0 की शुरुआत विश्वकप के साथ\\n\\n  अंधेरा छंटा,  सूरज निकला , भारत जीता\\n\\nप्रधानमंत्री \\n@narendramodi\\n जी ने भारत\\nकी जीत पर #TeamIndia को बधाई दी \\n\\n#T20WorldCup #ViratKohli\\n#RohitSharma𓃵 #HardikPandya</td>\n",
       "      <td>Modi 3.0 की शुरुआत विश्वकप के साथ अंधेरा छंटा, सूरज निकला , भारत जीता प्रधानमंत्री जी ने भारत की जीत पर को बधाई दी 𓃵</td>\n",
       "      <td>0.0</td>\n",
       "      <td>0.00</td>\n",
       "      <td>neutral</td>\n",
       "    </tr>\n",
       "    <tr>\n",
       "      <th>47</th>\n",
       "      <td>Virat Kohli The Emotion</td>\n",
       "      <td>Virat Kohli The Emotion</td>\n",
       "      <td>0.0</td>\n",
       "      <td>0.00</td>\n",
       "      <td>neutral</td>\n",
       "    </tr>\n",
       "    <tr>\n",
       "      <th>49</th>\n",
       "      <td>Star Sports edit on Virat Kohli \\n@imVkohli</td>\n",
       "      <td>Star Sports edit Virat Kohli</td>\n",
       "      <td>0.0</td>\n",
       "      <td>0.00</td>\n",
       "      <td>neutral</td>\n",
       "    </tr>\n",
       "    <tr>\n",
       "      <th>52</th>\n",
       "      <td>Rahul Dravid was standing in the back and then Virat Kohli called Dravid &amp; gave the trophy to the coach.</td>\n",
       "      <td>Rahul Dravid standing back Virat Kohli called Dravid &amp; gave trophy coach.</td>\n",
       "      <td>0.0</td>\n",
       "      <td>0.00</td>\n",
       "      <td>neutral</td>\n",
       "    </tr>\n",
       "  </tbody>\n",
       "</table>\n",
       "</div>"
      ],
      "text/plain": [
       "                                                                                                                                                                                                                                                          tweets  \\\n",
       "2                                                                                                                              जबतक अपुन है... टेंशन नई लेने का भाईलोग\\n\\n#T20WorldCup #ViratKohli\\n#RohitSharma𓃵 #HardikPandya\\n#TeamIndia #Bumrah #ViratKohli𓃵   \n",
       "3                                                                                                                                                                                                                       Virat Kohli In T20I WCs over the years..   \n",
       "4                                                                                                                                                                     Somebody have edited for #RohiRat #RoKo #T20WorldCup #RohitSharma #ViratKohli\\n#Retirement   \n",
       "5                                                                                                                                               WHAT. A. KNOCK \\n\\nVirat Kohli departs after a marvellous 95(104) \\n\\n#TeamIndia | #CWC23 | #MenInBlue | #INDvNZ   \n",
       "8                                                                                       T20 உலக கோப்பையை சனாதனம் வென்றது \\n\\n#IndiaWon #Bumra #Pandya #JaspritBumra #ViratKohli𓃵 #T20WorldCup #T20WorldCup2024 #T20WorldCupFinal #INDvSA #INDvsSA2024 #AxarPatel   \n",
       "9                                                                                                                                                                                                                                     Rohit Sharma & Virat Kohli   \n",
       "10                                                                                                                                                                       फिर से होगा वर्ल्डकप फाइनल, लीक हुआ था मैच\\n\\n#T20WorldCup | #RohitSharma | #ViratKohli   \n",
       "11                                                                                                                                                                                                                            Virat Kohli has completed cricket    \n",
       "13                                                                                                                                                                                                                    Head Coach Rahul Dravid Backs Virat Kohli    \n",
       "14                                                                                                                                                                                        The way Virat Kohli looked up to the sky and said, \"God's plan, baby\"    \n",
       "18                                                                                                                                                                                       Indian batting coach Vikram Rathour's Instagram post with Virat Kohli.    \n",
       "20                                                                                                                                                                                             Wallpapers from T20 World Cup finals \\n\\n#ViratKohli #RohitSharma   \n",
       "21                                        #BREAKING | बारबाडोस में तूफान की वजह से लगा कर्फ्यू, कल दिल्ली पहुंचेगी टीम इंडिया            \\n@rajendradev6\\n | http://abplive.com/live-tv  \\n\\n#Barbados #TeamIndia #Cricket #T20Worldcup #RohitSharma #ViratKohli   \n",
       "22                                                                                                                                                                                                        Pick Retirement Moment For Virat Kohli & Rohit Sharma    \n",
       "24                                                                                                                                                                                                                                   Thank you, Virat Kohli!!!!    \n",
       "25               With Virat Kohli, Rohit Sharma and Ravindra Jadeja all retiring from T20Is, here’s how India could line up at the T20 World Cup 2026 \\n\\nWill India defend their trophy?  \\n\\nLet us know what would be your XI? \\n\\n#CricketTwitter #TeamIndia   \n",
       "26                                                                                                                                                                           #RohitSharma #ViratKohli #SAvIND #SAvsIND #T20WorldCup #TeamIndia #BharatArmy #COTI   \n",
       "27                                                                                                                                                                                                                          Indeed! \\n\\n#ViratKohli #T20WorldCup   \n",
       "28                                                                   ओ.. अनिलवा..\\nअब इस पोस्ट की बत्ती बना के पीछे घुसेड़ ले\\n    और तीस चालीस बार अंदर बाहर कर\\n\\n     आराम मिलेगा BSDK देशद्रोही कुत्ते \\n\\n#T20WorldCup  #INDvSA\\n#ViratKohli #RohitSharma𓃵    \n",
       "29                                                                                                                                                                                                                                Virat Kohli's Instagram post.    \n",
       "30                                                                                                                                                                                                        Virat Kohli flexing his trophy has to be my favourite    \n",
       "33                                                                                                                                                                King Virat Kohli and Marnus Labuschagne not taking their eyes off each other\\n\\n#INDvsAUSfinal   \n",
       "34                                                                                                                                                                                                                             Virat Kohli completed the cricket   \n",
       "36                        मोदी जी के तीसरे कार्यकाल की शानदार शुरुवात है । मोदी जी ने बधाई दी।\\nहिंदुस्तान वर्ल्ड कप जीत गया।\\nCongratulations India  \\nPlayer of the match.\\n#ThankYouVirat\\nWe love you Virat Kohli.\\n#Panauti चमचों का जननायक दिख नही रहा है।   \n",
       "37                                                                                                                                                                   King conquers all in white ball cricket.\\n\\n#ViratKohli #T20WorldCup #TeamIndia #BharatArmy   \n",
       "39  Pakistani Fans on X supported SA, ENG, AUS, BAN, USA, IRE when India was playing against these Teams after Pakistan Elimination \\n\\nBut, every team lost & India emerged as the Champions of T20 WC 2024\\n\\n#INDvSA #T20WorldCupFinal #ViratKohli #TeamIndia   \n",
       "41                                                                                                          Virat Kohli  KL Rahul\\n\\nThe pair help India post a mammoth total against Pakistan in Colombo  \\n\\n#AsiaCup2023 | #PAKvIND |  https://bit.ly/3LhlXrQ   \n",
       "42                                                                                                                                                                            Caption is in the picture.\\n\\n#ViratKohli #T20WorldCup #INDvSA #SAvIND #BharatArmy   \n",
       "43                                                             The Farewell that Rahul Dravid will remember till ages \\n\\nDravid never won a World Cup as a player, but won the T20 World Cup as a Coach  \\n\\n#T20WorldCup #RahulDravid #RohitSharma #ViratKohli   \n",
       "44                                                                                                                                                                                            Three Pillars of Team India with National Flag on their shoulder!    \n",
       "45                                                                                                                                                                                           You deserve it... \\n\\n#PlayBold #TeamIndia #T20WorldCup #ViratKohli   \n",
       "46                                           Modi 3.0 की शुरुआत विश्वकप के साथ\\n\\n  अंधेरा छंटा,  सूरज निकला , भारत जीता\\n\\nप्रधानमंत्री \\n@narendramodi\\n जी ने भारत\\nकी जीत पर #TeamIndia को बधाई दी \\n\\n#T20WorldCup #ViratKohli\\n#RohitSharma𓃵 #HardikPandya   \n",
       "47                                                                                                                                                                                                                                      Virat Kohli The Emotion    \n",
       "49                                                                                                                                                                                                                   Star Sports edit on Virat Kohli \\n@imVkohli   \n",
       "52                                                                                                                                                     Rahul Dravid was standing in the back and then Virat Kohli called Dravid & gave the trophy to the coach.    \n",
       "\n",
       "                                                                                                                                                               cleanedTweets  \\\n",
       "2                                                                                                                                जबतक अपुन है... टेंशन नई लेने का भाईलोग 𓃵 𓃵   \n",
       "3                                                                                                                                            Virat Kohli In T20I WCs years..   \n",
       "4                                                                                                                                                            Somebody edited   \n",
       "5                                                                                                                WHAT. A. KNOCK Virat Kohli departs marvellous 95(104) | | |   \n",
       "8                                                                                                                                         T20 உலக கோப்பையை சனாதனம் வென்றது 𓃵   \n",
       "9                                                                                                                                                 Rohit Sharma & Virat Kohli   \n",
       "10                                                                                                                            फिर से होगा वर्ल्डकप फाइनल, लीक हुआ था मैच | |   \n",
       "11                                                                                                                                             Virat Kohli completed cricket   \n",
       "13                                                                                                                                 Head Coach Rahul Dravid Backs Virat Kohli   \n",
       "14                                                                                                                   The way Virat Kohli looked sky said, \"God's plan, baby\"   \n",
       "18                                                                                                         Indian batting coach Vikram Rathour's Instagram post Virat Kohli.   \n",
       "20                                                                                                                                           Wallpapers T20 World Cup finals   \n",
       "21                                                                    | बारबाडोस में तूफान की वजह से लगा कर्फ्यू, कल दिल्ली पहुंचेगी टीम इंडिया | http://abplive.com/live-tv   \n",
       "22                                                                                                                     Pick Retirement Moment For Virat Kohli & Rohit Sharma   \n",
       "24                                                                                                                                                Thank you, Virat Kohli!!!!   \n",
       "25                 With Virat Kohli, Rohit Sharma Ravindra Jadeja retiring T20Is, here’s India could line T20 World Cup 2026 Will India defend trophy? Let us know would XI?   \n",
       "26                                                                                                                                                                             \n",
       "27                                                                                                                                                                   Indeed!   \n",
       "28                                                 ओ.. अनिलवा.. अब इस पोस्ट की बत्ती बना के पीछे घुसेड़ ले और तीस चालीस बार अंदर बाहर कर आराम मिलेगा BSDK देशद्रोही कुत्ते 𓃵   \n",
       "29                                                                                                                                             Virat Kohli's Instagram post.   \n",
       "30                                                                                                                                      Virat Kohli flexing trophy favourite   \n",
       "33                                                                                                                           King Virat Kohli Marnus Labuschagne taking eyes   \n",
       "34                                                                                                                                             Virat Kohli completed cricket   \n",
       "36  मोदी जी के तीसरे कार्यकाल की शानदार शुरुवात है । मोदी जी ने बधाई दी। हिंदुस्तान वर्ल्ड कप जीत गया। Congratulations India Player match. . चमचों का जननायक दिख नही रहा है।   \n",
       "37                                                                                                                                         King conquers white ball cricket.   \n",
       "39                Pakistani Fans X supported SA, ENG, AUS, BAN, USA, IRE India playing Teams Pakistan Elimination But, every team lost & India emerged Champions T20 WC 2024   \n",
       "41                                                                   Virat Kohli KL Rahul The pair help India post mammoth total Pakistan Colombo | | https://bit.ly/3LhlXrQ   \n",
       "42                                                                                                                                                          Caption picture.   \n",
       "43                                                                           The Farewell Rahul Dravid remember till ages Dravid never World Cup player, T20 World Cup Coach   \n",
       "44                                                                                                                          Three Pillars Team India National Flag shoulder!   \n",
       "45                                                                                                                                                         You deserve it...   \n",
       "46                                                      Modi 3.0 की शुरुआत विश्वकप के साथ अंधेरा छंटा, सूरज निकला , भारत जीता प्रधानमंत्री जी ने भारत की जीत पर को बधाई दी 𓃵   \n",
       "47                                                                                                                                                   Virat Kohli The Emotion   \n",
       "49                                                                                                                                              Star Sports edit Virat Kohli   \n",
       "52                                                                                                 Rahul Dravid standing back Virat Kohli called Dravid & gave trophy coach.   \n",
       "\n",
       "    tPolarity  tSubjectivity segmentation  \n",
       "2         0.0           0.00      neutral  \n",
       "3         0.0           0.00      neutral  \n",
       "4         0.0           0.00      neutral  \n",
       "5         0.0           0.00      neutral  \n",
       "8         0.0           0.00      neutral  \n",
       "9         0.0           0.00      neutral  \n",
       "10        0.0           0.00      neutral  \n",
       "11        0.0           0.00      neutral  \n",
       "13        0.0           0.00      neutral  \n",
       "14        0.0           0.00      neutral  \n",
       "18        0.0           0.00      neutral  \n",
       "20        0.0           0.00      neutral  \n",
       "21        0.0           0.00      neutral  \n",
       "22        0.0           0.00      neutral  \n",
       "24        0.0           0.00      neutral  \n",
       "25        0.0           0.00      neutral  \n",
       "26        0.0           0.00      neutral  \n",
       "27        0.0           0.00      neutral  \n",
       "28        0.0           0.00      neutral  \n",
       "29        0.0           0.00      neutral  \n",
       "30        0.0           0.00      neutral  \n",
       "33        0.0           0.00      neutral  \n",
       "34        0.0           0.00      neutral  \n",
       "36        0.0           0.00      neutral  \n",
       "37        0.0           0.00      neutral  \n",
       "39        0.0           0.00      neutral  \n",
       "41        0.0           0.75      neutral  \n",
       "42        0.0           0.00      neutral  \n",
       "43        0.0           0.00      neutral  \n",
       "44        0.0           0.00      neutral  \n",
       "45        0.0           0.00      neutral  \n",
       "46        0.0           0.00      neutral  \n",
       "47        0.0           0.00      neutral  \n",
       "49        0.0           0.00      neutral  \n",
       "52        0.0           0.00      neutral  "
      ]
     },
     "execution_count": 26,
     "metadata": {},
     "output_type": "execute_result"
    }
   ],
   "source": [
    "df[df.tPolarity==0]"
   ]
  },
  {
   "cell_type": "code",
   "execution_count": 31,
   "id": "3c890608",
   "metadata": {},
   "outputs": [],
   "source": [
    "import seaborn as sns"
   ]
  },
  {
   "cell_type": "code",
   "execution_count": 32,
   "id": "252f4e34",
   "metadata": {},
   "outputs": [
    {
     "data": {
      "text/html": [
       "<div>\n",
       "<style scoped>\n",
       "    .dataframe tbody tr th:only-of-type {\n",
       "        vertical-align: middle;\n",
       "    }\n",
       "\n",
       "    .dataframe tbody tr th {\n",
       "        vertical-align: top;\n",
       "    }\n",
       "\n",
       "    .dataframe thead th {\n",
       "        text-align: right;\n",
       "    }\n",
       "</style>\n",
       "<table border=\"1\" class=\"dataframe\">\n",
       "  <thead>\n",
       "    <tr style=\"text-align: right;\">\n",
       "      <th></th>\n",
       "      <th>tweets</th>\n",
       "      <th>cleanedTweets</th>\n",
       "      <th>tPolarity</th>\n",
       "      <th>tSubjectivity</th>\n",
       "    </tr>\n",
       "    <tr>\n",
       "      <th>segmentation</th>\n",
       "      <th></th>\n",
       "      <th></th>\n",
       "      <th></th>\n",
       "      <th></th>\n",
       "    </tr>\n",
       "  </thead>\n",
       "  <tbody>\n",
       "    <tr>\n",
       "      <th>negative</th>\n",
       "      <td>5</td>\n",
       "      <td>5</td>\n",
       "      <td>5</td>\n",
       "      <td>5</td>\n",
       "    </tr>\n",
       "    <tr>\n",
       "      <th>neutral</th>\n",
       "      <td>35</td>\n",
       "      <td>35</td>\n",
       "      <td>35</td>\n",
       "      <td>35</td>\n",
       "    </tr>\n",
       "    <tr>\n",
       "      <th>positive</th>\n",
       "      <td>13</td>\n",
       "      <td>13</td>\n",
       "      <td>13</td>\n",
       "      <td>13</td>\n",
       "    </tr>\n",
       "  </tbody>\n",
       "</table>\n",
       "</div>"
      ],
      "text/plain": [
       "              tweets  cleanedTweets  tPolarity  tSubjectivity\n",
       "segmentation                                                 \n",
       "negative           5              5          5              5\n",
       "neutral           35             35         35             35\n",
       "positive          13             13         13             13"
      ]
     },
     "execution_count": 32,
     "metadata": {},
     "output_type": "execute_result"
    }
   ],
   "source": [
    "df.groupby('segmentation').count()"
   ]
  },
  {
   "cell_type": "code",
   "execution_count": 33,
   "id": "14e90e73",
   "metadata": {},
   "outputs": [
    {
     "data": {
      "text/plain": [
       "<AxesSubplot:xlabel='tPolarity', ylabel='tSubjectivity'>"
      ]
     },
     "execution_count": 33,
     "metadata": {},
     "output_type": "execute_result"
    },
    {
     "data": {
      "image/png": "[encoded data removed]",
      "text/plain": [
       "<Figure size 720x360 with 1 Axes>"
      ]
     },
     "metadata": {
      "needs_background": "light"
     },
     "output_type": "display_data"
    }
   ],
   "source": [
    "plt.figure(figsize=(10,5))\n",
    "sns.set_style(\"whitegrid\")\n",
    "sns.scatterplot(data=df, x='tPolarity',y='tSubjectivity',s=100,hue='segmentation')"
   ]
  },
  {
   "cell_type": "code",
   "execution_count": 34,
   "id": "0b5c0b92",
   "metadata": {},
   "outputs": [
    {
     "data": {
      "text/plain": [
       "<AxesSubplot:xlabel='segmentation', ylabel='count'>"
      ]
     },
     "execution_count": 34,
     "metadata": {},
     "output_type": "execute_result"
    },
    {
     "data": {
      "image/png": "[encoded data removed]",
      "text/plain": [
       "<Figure size 432x288 with 1 Axes>"
      ]
     },
     "metadata": {},
     "output_type": "display_data"
    }
   ],
   "source": [
    "sns.countplot(data=df,x='segmentation')\n"
   ]
  },
  {
   "cell_type": "code",
   "execution_count": 35,
   "id": "51d52462",
   "metadata": {},
   "outputs": [
    {
     "data": {
      "text/html": [
       "<div>\n",
       "<style scoped>\n",
       "    .dataframe tbody tr th:only-of-type {\n",
       "        vertical-align: middle;\n",
       "    }\n",
       "\n",
       "    .dataframe tbody tr th {\n",
       "        vertical-align: top;\n",
       "    }\n",
       "\n",
       "    .dataframe thead th {\n",
       "        text-align: right;\n",
       "    }\n",
       "</style>\n",
       "<table border=\"1\" class=\"dataframe\">\n",
       "  <thead>\n",
       "    <tr style=\"text-align: right;\">\n",
       "      <th></th>\n",
       "      <th>resp</th>\n",
       "      <th>pct</th>\n",
       "    </tr>\n",
       "  </thead>\n",
       "  <tbody>\n",
       "    <tr>\n",
       "      <th>0</th>\n",
       "      <td>mayWin</td>\n",
       "      <td>24.5</td>\n",
       "    </tr>\n",
       "    <tr>\n",
       "      <th>1</th>\n",
       "      <td>mayLoose</td>\n",
       "      <td>9.4</td>\n",
       "    </tr>\n",
       "    <tr>\n",
       "      <th>2</th>\n",
       "      <td>notSure</td>\n",
       "      <td>66.0</td>\n",
       "    </tr>\n",
       "  </tbody>\n",
       "</table>\n",
       "</div>"
      ],
      "text/plain": [
       "       resp   pct\n",
       "0    mayWin  24.5\n",
       "1  mayLoose   9.4\n",
       "2   notSure  66.0"
      ]
     },
     "execution_count": 35,
     "metadata": {},
     "output_type": "execute_result"
    }
   ],
   "source": [
    "positive = round(len(df[df.segmentation == 'positive'])/len(df)*100,1)\n",
    "negative = round(len(df[df.segmentation == 'negative'])/len(df)*100,1)\n",
    "neutral = round(len(df[df.segmentation == 'neutral'])/len(df)*100,1)\n",
    "\n",
    "responses = [positive, negative, neutral]\n",
    "responses\n",
    "\n",
    "response = {'resp': ['mayWin', 'mayLoose', 'notSure'], 'pct':[positive, negative, neutral]}\n",
    "pd.DataFrame(response)"
   ]
  },
  {
   "cell_type": "code",
   "execution_count": null,
   "id": "3907a99b",
   "metadata": {},
   "outputs": [],
   "source": []
  }
 ],
 "metadata": {
  "kernelspec": {
   "display_name": "Python 3 (ipykernel)",
   "language": "python",
   "name": "python3"
  },
  "language_info": {
   "codemirror_mode": {
    "name": "ipython",
    "version": 3
   },
   "file_extension": ".py",
   "mimetype": "text/x-python",
   "name": "python",
   "nbconvert_exporter": "python",
   "pygments_lexer": "ipython3",
   "version": "3.9.12"
  }
 },
 "nbformat": 4,
 "nbformat_minor": 5
}
